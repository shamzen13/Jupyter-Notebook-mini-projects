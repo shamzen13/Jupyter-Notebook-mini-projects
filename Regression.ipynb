{
 "cells": [
  {
   "cell_type": "markdown",
   "id": "3d1bca22-78ed-4ffd-8a89-f5090142e70b",
   "metadata": {},
   "source": [
    "# Simple Linear Regression (python implementation) \n",
    "\n"
   ]
  },
  {
   "cell_type": "markdown",
   "id": "bdab821f-06b7-4b6d-ad3a-e8a3be3c5826",
   "metadata": {},
   "source": [
    "Predicts a varaible based on a single independant variable ( feature ) \n",
    "\n",
    "We assume that both variables are linearly related.\n",
    "\n",
    "we will use simple numerical vectors to represent both variables **x** & **y**, and let **n** be the number of observations.\n"
   ]
  },
  {
   "cell_type": "markdown",
   "id": "875fdc0c-2bee-4431-94f1-c349b9edcd48",
   "metadata": {},
   "source": [
    "Equation of regression line : \n",
    "\n",
    "$$ h(x_i) = \\beta_0 + \\beta_1 x_i $$\n"
   ]
  },
  {
   "cell_type": "markdown",
   "id": "c0c3ef3a-8752-46af-90b3-0214b509c7c3",
   "metadata": {},
   "source": [
    "**h(x_i)** is the **predicted response value** for the **i-th** observation.\n",
    "\n",
    "**b_0** and **b_1** are the **regression coefficients** and represent the **y-intercept** and **slope**.\n",
    "\n",
    "We must estimate the coefficient values, then we can use the model to predict responses\n",
    "\n",
    "\n",
    "\n"
   ]
  },
  {
   "cell_type": "markdown",
   "id": "e8500279-8a76-4dce-ab93-7f4ea2bd76fa",
   "metadata": {},
   "source": [
    "### Calculating coefficiants"
   ]
  },
  {
   "cell_type": "code",
   "execution_count": 7,
   "id": "ae54a23b-51e3-4390-ab36-4266c494bdfe",
   "metadata": {},
   "outputs": [],
   "source": [
    "import numpy as np\n",
    "import matplotlib.pyplot as plt\n",
    "\n",
    "def estimate_coeff(x,y):\n",
    "\n",
    "    n = np.size(x)\n",
    "    \n",
    "    \n",
    "    m_x = np.mean(x)\n",
    "    m_y = np.mean(y)\n",
    "    \n",
    "    SS_xy = np.sum(x*y) - n*m_y*m_x\n",
    "    SS_xx = np.sum(x*y) - n*m_x*m_x\n",
    "    \n",
    "    b_1 = SS_xy / SS_xx\n",
    "    b_0 = m_y - b_1 * m_x\n",
    "\n",
    "    return ( b_0 , b_1 )\n"
   ]
  },
  {
   "cell_type": "markdown",
   "id": "2a39ba07-1895-4e7e-ad97-6352300cabb2",
   "metadata": {},
   "source": [
    "This function takes the input data and y and estimates the coefficiants using the least squares method.\n",
    "\n",
    "**Calculating Cross-Deviation and Deviation about x** : SS_xy = np.sum(y*x) - n * m_y * m_x and SS_xx calculate the sum of squared deviations between x and y and sum of squared deviations of x about its mean.\n",
    "\n",
    "Using both these values we obtained the Regression coefficiants\n"
   ]
  },
  {
   "cell_type": "markdown",
   "id": "68d759c3-41e3-44f2-9176-127eacc72acf",
   "metadata": {},
   "source": [
    "### Plotting scatter plot\n"
   ]
  },
  {
   "cell_type": "code",
   "execution_count": 17,
   "id": "1ce71bbc-1e0a-4c40-9878-ccc247c8aee3",
   "metadata": {},
   "outputs": [],
   "source": [
    "def plot_regression_line(x , y , b):\n",
    "    plt.scatter(x,y, color = \"m\", marker = \"o\", s= 30)\n",
    "\n",
    "    y_pred = b[0] + b[1]*x\n",
    "\n",
    "    plt.plot(x,y_pred, color = \"g\")\n",
    "\n",
    "    plt.xlabel('x')\n",
    "    plt.ylabel('y')\n",
    "    "
   ]
  },
  {
   "cell_type": "markdown",
   "id": "0395529d-a5b5-4dd7-a4cd-0b17507f1604",
   "metadata": {},
   "source": [
    "## Main function"
   ]
  },
  {
   "cell_type": "code",
   "execution_count": 23,
   "id": "0e3cb73d-5ecd-47f9-ac7b-b10b82fc288c",
   "metadata": {},
   "outputs": [
    {
     "name": "stdout",
     "output_type": "stream",
     "text": [
      "Estimated coefficients:\n",
      "b_0 = 0.0\n",
      "b_1 = 1.0\n"
     ]
    },
    {
     "data": {
      "image/png": "[encoded data removed]",
      "text/plain": [
       "<Figure size 640x480 with 1 Axes>"
      ]
     },
     "metadata": {},
     "output_type": "display_data"
    }
   ],
   "source": [
    "\n",
    "def main():\n",
    "    x = np.array([0,1,2,3,4,5,6,7,8,9])  \n",
    "    y = np.array([1,2,2,4,8,5,9,7,2,5])  \n",
    "\n",
    "    b = estimate_coeff(x, y)\n",
    "    print(\"Estimated coefficients:\\nb_0 = {}\\nb_1 = {}\".format(b[0], b[1])) \n",
    "    plot_regression_line(x, y, b)\n",
    "\n",
    "if __name__ == \"__main__\":\n",
    "    main()\n"
   ]
  }
 ],
 "metadata": {
  "kernelspec": {
   "display_name": "Python (myenv)",
   "language": "python",
   "name": "myenv"
  },
  "language_info": {
   "codemirror_mode": {
    "name": "ipython",
    "version": 3
   },
   "file_extension": ".py",
   "mimetype": "text/x-python",
   "name": "python",
   "nbconvert_exporter": "python",
   "pygments_lexer": "ipython3",
   "version": "3.10.13"
  }
 },
 "nbformat": 4,
 "nbformat_minor": 5
}
